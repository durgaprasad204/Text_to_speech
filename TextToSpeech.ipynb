{
 "cells": [
  {
   "cell_type": "code",
   "execution_count": 1,
   "id": "bb4b74e8-b853-4a57-b546-da17e18482d9",
   "metadata": {},
   "outputs": [
    {
     "data": {
      "text/plain": [
       "<__main__.GUI at 0x21043c688f0>"
      ]
     },
     "execution_count": 1,
     "metadata": {},
     "output_type": "execute_result"
    }
   ],
   "source": [
    "import pyttsx3\n",
    "import tkinter as tk\n",
    "\n",
    "# saytext = input(\"What should I say? \")\n",
    "\n",
    "class GUI:\n",
    "    def __init__(self):\n",
    "        self.root = tk.Tk()\n",
    "\n",
    "        self.root.title(\"Text To Speech\")\n",
    "        self.root.geometry(\"500x500\")\n",
    "\n",
    "        self.label = tk.Label(self.root, text=\"Type what you want me to say!\", font=('Arial', 16))\n",
    "        self.label.pack(padx=10, pady=10)\n",
    "\n",
    "        self.textbox = tk.Entry(font=('Arial', 16))\n",
    "        self.textbox.pack(padx=10, pady=10)\n",
    "\n",
    "        self.button = tk.Button(text=\"CLICK ME!\", font=('Arial', 16), command=self.button_click)\n",
    "        self.button.pack(padx=10, pady=10)\n",
    "\n",
    "        self.root.mainloop()\n",
    "\n",
    "    def button_click(self):\n",
    "        engine = pyttsx3.init()\n",
    "        engine.say(self.textbox.get())\n",
    "        engine.runAndWait()\n",
    "\n",
    "GUI()"
   ]
  },
  {
   "cell_type": "code",
   "execution_count": null,
   "id": "02bf6b66-2c76-462f-88b8-bdc9d685297c",
   "metadata": {},
   "outputs": [],
   "source": []
  }
 ],
 "metadata": {
  "kernelspec": {
   "display_name": "Python 3 (ipykernel)",
   "language": "python",
   "name": "python3"
  },
  "language_info": {
   "codemirror_mode": {
    "name": "ipython",
    "version": 3
   },
   "file_extension": ".py",
   "mimetype": "text/x-python",
   "name": "python",
   "nbconvert_exporter": "python",
   "pygments_lexer": "ipython3",
   "version": "3.12.4"
  }
 },
 "nbformat": 4,
 "nbformat_minor": 5
}
